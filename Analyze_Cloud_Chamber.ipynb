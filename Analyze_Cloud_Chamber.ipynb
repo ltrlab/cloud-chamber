{
 "cells": [
  {
   "cell_type": "code",
   "execution_count": 4,
   "metadata": {},
   "outputs": [
    {
     "name": "stdout",
     "output_type": "stream",
     "text": [
      "Video dimensions: 3840x2160\n"
     ]
    }
   ],
   "source": [
    "import cv2\n",
    "\n",
    "vid = r\"C:\\Users\\598Jo\\Desktop\\cloud_chamber_timelapse_042524_bw.mp4\"\n",
    "cap = cv2.VideoCapture(vid)\n",
    "\n",
    "if not cap.isOpened():\n",
    "    print(\"Error opening video file\")\n",
    "\n",
    "# Dynamically obtain video dimensions\n",
    "frame_width = int(cap.get(cv2.CAP_PROP_FRAME_WIDTH))\n",
    "frame_height = int(cap.get(cv2.CAP_PROP_FRAME_HEIGHT))\n",
    "\n",
    "print(f\"Video dimensions: {frame_width}x{frame_height}\")\n",
    "\n",
    "fourcc = cv2.VideoWriter_fourcc(*\"X264\")\n",
    "path = r\"C:\\Users\\598Jo\\Desktop\\detected_motion_short.mp4\"\n",
    "out = cv2.VideoWriter(path, fourcc, 30, (frame_width, frame_height))\n",
    "\n",
    "done, CurrentFrame = cap.read()\n",
    "done, NextFrame = cap.read()\n",
    "\n",
    "while cap.isOpened():\n",
    "    if done:\n",
    "        diff = cv2.absdiff(CurrentFrame, NextFrame)\n",
    "        gray = cv2.cvtColor(diff, cv2.COLOR_BGR2GRAY)\n",
    "        blured_img = cv2.GaussianBlur(gray, (5, 5), 0)\n",
    "        threshold, binary_img = cv2.threshold(blured_img, 45, 255, cv2.THRESH_BINARY)\n",
    "        dilated = cv2.dilate(binary_img, None, iterations=12)\n",
    "        contours, hierarchy = cv2.findContours(dilated, cv2.RETR_TREE, cv2.CHAIN_APPROX_NONE)\n",
    "        \n",
    "        #for contour in contours:\n",
    "        #    if cv2.contourArea(contour) < 1000:\n",
    "        #        continue\n",
    "        #    (x, y, w, h) = cv2.boundingRect(contour)\n",
    "        #    # if the rectangle is big, change the color to red\n",
    "        #    if w > 100 and h > 100:\n",
    "        #        cv2.rectangle(CurrentFrame, (x, y), (x+w, y+h), (0, 0, 255), 2)\n",
    "        #    else:\n",
    "        #        cv2.rectangle(CurrentFrame, (x, y), (x+w, y+h), (0, 255, 0), 2)\n",
    "\n",
    "        CurrentFrame = cv2.flip(binary_img, 1)\n",
    "\n",
    "        # What to display while processing\n",
    "        #cv2.imshow(\"frame\", CurrentFrame)\n",
    "        cv2.imshow(\"binary_img\", cv2.flip(binary_img, 1))\n",
    "        #cv2.imshow(\"dilated_img\", dilated)\n",
    "\n",
    "        out.write(CurrentFrame)\n",
    "        CurrentFrame = NextFrame\n",
    "        done, NextFrame = cap.read()\n",
    "        \n",
    "        if cv2.waitKey(30) == ord(\"g\"):\n",
    "            break\n",
    "    else:\n",
    "        break\n",
    "\n",
    "cv2.destroyAllWindows()\n",
    "cap.release()\n",
    "out.release()\n"
   ]
  }
 ],
 "metadata": {
  "kernelspec": {
   "display_name": "base",
   "language": "python",
   "name": "python3"
  },
  "language_info": {
   "codemirror_mode": {
    "name": "ipython",
    "version": 3
   },
   "file_extension": ".py",
   "mimetype": "text/x-python",
   "name": "python",
   "nbconvert_exporter": "python",
   "pygments_lexer": "ipython3",
   "version": "3.12.2"
  }
 },
 "nbformat": 4,
 "nbformat_minor": 2
}
