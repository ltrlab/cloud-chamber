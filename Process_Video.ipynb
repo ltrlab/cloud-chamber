{
 "cells": [
  {
   "cell_type": "code",
   "execution_count": 6,
   "metadata": {},
   "outputs": [
    {
     "name": "stdout",
     "output_type": "stream",
     "text": [
      "Output image saved as output_image_500_to_10000.png\n"
     ]
    }
   ],
   "source": [
    "import cv2\n",
    "import numpy as np\n",
    "\n",
    "def process_cloud_chamber_video(video_path, start_frame=0, end_frame=None):\n",
    "    # Load the video\n",
    "    cap = cv2.VideoCapture(video_path)\n",
    "    \n",
    "    # Get total frame count and set end frame if not specified\n",
    "    total_frames = int(cap.get(cv2.CAP_PROP_FRAME_COUNT))\n",
    "    end_frame = end_frame or total_frames\n",
    "    \n",
    "    # Set video position to the start frame\n",
    "    cap.set(cv2.CAP_PROP_POS_FRAMES, start_frame)\n",
    "    \n",
    "    # Read the first frame to initialize count matrix\n",
    "    ret, first_frame = cap.read()\n",
    "    height, width = first_frame.shape[:2]\n",
    "    count_matrix = np.zeros((height, width), dtype=np.int32)\n",
    "    \n",
    "    # Process each frame from start to end\n",
    "    for frame_idx in range(start_frame, end_frame):\n",
    "        if not ret:\n",
    "            break\n",
    "        \n",
    "        gray_frame = cv2.cvtColor(first_frame, cv2.COLOR_BGR2GRAY)\n",
    "        _, binary_frame = cv2.threshold(gray_frame, 100, 1, cv2.THRESH_BINARY)\n",
    "        count_matrix += binary_frame\n",
    "        \n",
    "        ret, first_frame = cap.read()\n",
    "    \n",
    "    cap.release()\n",
    "    \n",
    "    # Apply logarithmic scale to the count matrix\n",
    "    count_matrix_log = np.log1p(count_matrix)\n",
    "    max_log_count = np.max(count_matrix_log)\n",
    "    \n",
    "    # Normalize to range 0-5\n",
    "    norm_matrix = ((count_matrix_log / max_log_count) * 5).astype(np.uint8)\n",
    "    \n",
    "    # Define the color map for 5 discrete values\n",
    "    colors = {\n",
    "        0: (255, 0, 0),    # Blue\n",
    "        1: (0, 255, 0),    # Green\n",
    "        2: (0, 255, 255),  # Yellow\n",
    "        3: (0, 165, 255),  # Orange\n",
    "        4: (0, 0, 255),    # Red\n",
    "        5: (255, 0, 0)     # Blue (again, for max values)\n",
    "    }\n",
    "    \n",
    "    # Generate the output image\n",
    "    output_image = np.zeros((height, width, 3), dtype=np.uint8)\n",
    "    for i in range(6):\n",
    "        output_image[norm_matrix == i] = colors[i]\n",
    "    \n",
    "    # Save the output image\n",
    "    output_filename = f'output_image_{start_frame}_to_{end_frame}.png'\n",
    "    cv2.imwrite(output_filename, output_image)\n",
    "    print(f\"Output image saved as {output_filename}\")\n",
    "\n",
    "video_path = r\"C:\\Users\\598Jo\\Desktop\\detected_motion_short.mp4\"\n",
    "process_cloud_chamber_video(video_path, start_frame=500, end_frame=10000)\n"
   ]
  }
 ],
 "metadata": {
  "kernelspec": {
   "display_name": "base",
   "language": "python",
   "name": "python3"
  },
  "language_info": {
   "codemirror_mode": {
    "name": "ipython",
    "version": 3
   },
   "file_extension": ".py",
   "mimetype": "text/x-python",
   "name": "python",
   "nbconvert_exporter": "python",
   "pygments_lexer": "ipython3",
   "version": "3.12.2"
  }
 },
 "nbformat": 4,
 "nbformat_minor": 2
}
